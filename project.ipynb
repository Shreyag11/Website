{
  "nbformat": 4,
  "nbformat_minor": 0,
  "metadata": {
    "colab": {
      "provenance": []
    },
    "kernelspec": {
      "name": "python3",
      "display_name": "Python 3"
    },
    "language_info": {
      "name": "python"
    }
  },
  "cells": [
    {
      "cell_type": "code",
      "source": [
        "import pandas as pd\n",
        "\n",
        "# Load mentors and mentees data from Excel\n",
        "mentors_df = pd.read_excel(\"/content/drive/MyDrive/alumni.xlsx\")\n",
        "mentees_df = pd.read_excel(\"/content/drive/MyDrive/students.xlsx\")"
      ],
      "metadata": {
        "id": "-SiJoSDwHlcl"
      },
      "execution_count": null,
      "outputs": []
    },
    {
      "cell_type": "code",
      "source": [
        "\n",
        "\n",
        "# Create a dictionary to map mentors' interests to their names\n",
        "mentor_expertise_dict = mentors_df.set_index('Alumni')['Expertise'].to_dict()\n",
        "\n",
        "# Create a dictionary to map mentees' interests to their names\n",
        "mentee_interests_dict = mentees_df.set_index('Students')['Interests'].to_dict()\n",
        "\n",
        "# Initialize matching results dictionary\n",
        "matching_results = {}\n",
        "\n",
        "# If the number of mentors is greater than or equal to the number of mentees\n",
        "if len(mentors_df) >= len(mentees_df):\n",
        "    mentors_assigned = set()  # Track mentors already assigned\n",
        "    for mentee, mentee_interests in mentee_interests_dict.items():\n",
        "        matching_results[mentee] = []\n",
        "        for mentor, mentor_expertise in mentor_expertise_dict.items():\n",
        "            common_interests = set(mentee_interests.split(', ')).intersection(set(mentor_expertise.split(', ')))\n",
        "            if common_interests and mentor not in mentors_assigned:\n",
        "                matching_results[mentee].append(mentor)\n",
        "                mentors_assigned.add(mentor)\n",
        "                break\n",
        "        if not matching_results[mentee]:\n",
        "            matching_results[mentee] = [\"No matches found\"]\n",
        "\n",
        "# If the number of mentors is less than the number of mentees\n",
        "else:\n",
        "    mentor_index = 0\n",
        "    mentor_names = list(mentor_expertise_dict.keys())  # Convert dict_keys to list\n",
        "    for mentee, mentee_interests in mentee_interests_dict.items():\n",
        "        matching_results[mentee] = [mentor_names[mentor_index]]\n",
        "        mentor_index = (mentor_index + 1) % len(mentor_expertise_dict)\n",
        "\n",
        "# Convert matching results dictionary to DataFrame\n",
        "matching_results_df = pd.DataFrame(matching_results.items(), columns=['Mentee', 'Matching Mentor'])\n",
        "\n",
        "# Save or display the matching results\n",
        "matching_results_df.to_excel(\"matching_results.xlsx\", index=False)  # Save to Excel\n",
        "print(matching_results_df)  # Display results in Colab output\n"
      ],
      "metadata": {
        "colab": {
          "base_uri": "https://localhost:8080/"
        },
        "id": "8Omn5KhrIL7T",
        "outputId": "b6dc3edb-e9e1-4912-ecf9-64001c31c706"
      },
      "execution_count": null,
      "outputs": [
        {
          "output_type": "stream",
          "name": "stdout",
          "text": [
            "     Mentee Matching Mentor\n",
            "0     Manvi      [Devanshi]\n",
            "1  Himanshi         [Lalit]\n",
            "2    Shreya         [Harsh]\n",
            "3  Harshita        [Aryan ]\n",
            "4    Priya         [Aastha]\n",
            "5       Anu      [Devanshi]\n"
          ]
        }
      ]
    },
    {
      "cell_type": "code",
      "source": [
        "# Search term (company name) provided by the mentee\n",
        "search_term = \"HDFC\"\n",
        "\n",
        "# Filter mentors based on the company name\n",
        "matching_mentors = mentors_df[mentors_df['Company'] == search_term]['Alumni'].tolist()\n",
        "\n",
        "# Filter mentees based on the company name\n",
        "matching_mentees = mentees_df[mentees_df['Company'] == search_term]['Students'].tolist()\n",
        "\n",
        "# Print or use matching mentors and mentees\n",
        "print(\"Matching mentors from HDFC:\")\n",
        "for mentor in matching_mentors:\n",
        "    print(mentor)\n",
        "\n",
        "print(\"\\nMatching mentees from HDFC:\")\n",
        "for mentee in matching_mentees:\n",
        "    print(mentee)\n"
      ],
      "metadata": {
        "colab": {
          "base_uri": "https://localhost:8080/"
        },
        "id": "G8AC6AjdSSfs",
        "outputId": "7d429add-0afd-4baf-e5d9-140918b78127"
      },
      "execution_count": null,
      "outputs": [
        {
          "output_type": "stream",
          "name": "stdout",
          "text": [
            "Matching mentors from HDFC:\n",
            "Devanshi\n",
            "Lalit\n",
            "\n",
            "Matching mentees from HDFC:\n",
            "Manvi\n",
            "Himanshi\n"
          ]
        }
      ]
    }
  ]
}